{
 "cells": [
  {
   "cell_type": "markdown",
   "metadata": {},
   "source": [
    "# Setting up the TensorFlow Environment\n",
    "*by Marvin Bertin*\n",
    "<img src=\"../../images/keras-tensorflow-logo.jpg\" width=\"400\">"
   ]
  },
  {
   "cell_type": "markdown",
   "metadata": {},
   "source": [
    "### Install Environment Manager Miniconda\n",
    "\n",
    "1. Download `miniconda` from https://conda.io/miniconda.html for your operating system\n",
    "2. Install `miniconda` by following the quick-start instructions in the conda documentation (https://conda.io/docs/install/quick.html)\n",
    "\n",
    "### Create a Python environment\n",
    "\n",
    "Install Python 2 and other dependencies\n",
    "\n",
    "- Run in terminal\n",
    "> `conda create --name TensorFlow-env python=2`\n",
    "\n",
    "### Activate/Deactivate environment\n",
    "\n",
    "To Activate environment\n",
    "- Run in terminal \n",
    "    - Linux, OS X:\n",
    "> `source activate TensorFlow-env`\n",
    "    - Windows:\n",
    "> `activate TensorFlow-env`\n",
    "\n",
    "To Deactivate environment\n",
    "- Run in terminal\n",
    "    - Linux, OS X:\n",
    "> `source deactivate`\n",
    "    - Windows:\n",
    "> `deactivate`\n",
    "\n",
    "\n",
    "## Install TensorFlow and Dependencies\n",
    "Not available in conda yet so need to use `pip`\n",
    "- Run in terminal\n",
    "> `pip install tensorflow`\n",
    "\n",
    "## Install Jupyter-Notebook and Dependencies\n",
    "\n",
    "- Run in teminal\n",
    "> `conda install jupyter`\n",
    "\n",
    "## Check all packages installed in environment\n",
    "\n",
    "- Run in terminal\n",
    "> `conda list`\n",
    "\n",
    "## Launch Jupyter-Notebook\n",
    "\n",
    "- Run in terminal\n",
    "> `jupyter notebook`"
   ]
  }
 ],
 "metadata": {
  "anaconda-cloud": {},
  "kernelspec": {
   "display_name": "Python [conda env:TF-1_1]",
   "language": "python",
   "name": "conda-env-TF-1_1-py"
  },
  "language_info": {
   "codemirror_mode": {
    "name": "ipython",
    "version": 2
   },
   "file_extension": ".py",
   "mimetype": "text/x-python",
   "name": "python",
   "nbconvert_exporter": "python",
   "pygments_lexer": "ipython2",
   "version": "2.7.13"
  }
 },
 "nbformat": 4,
 "nbformat_minor": 1
}
