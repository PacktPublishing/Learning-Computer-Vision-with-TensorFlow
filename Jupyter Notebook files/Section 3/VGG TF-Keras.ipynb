{
 "cells": [
  {
   "cell_type": "markdown",
   "metadata": {},
   "source": [
    "# VGG with TensorFlow-Keras\n",
    "*by Marvin Bertin*\n",
    "<img src=\"../../images/keras-tensorflow-logo.jpg\" width=\"400\">\n",
    "\n",
    "### Goals\n",
    "- construct a VGG model with TF-Keras\n",
    "- train and evaluate model on Cifar10 dataset\n",
    "- perform hyperparameter tuning\n",
    "- plot accuracy and loss over time"
   ]
  },
  {
   "cell_type": "code",
   "execution_count": 8,
   "metadata": {
    "collapsed": true
   },
   "outputs": [],
   "source": [
    "import tensorflow as tf\n",
    "import matplotlib.pyplot as plt\n",
    "%matplotlib inline\n",
    "\n",
    "tf_keras = tf.contrib.keras"
   ]
  },
  {
   "cell_type": "markdown",
   "metadata": {},
   "source": [
    "# Model Hyperparameters"
   ]
  },
  {
   "cell_type": "code",
   "execution_count": 9,
   "metadata": {
    "collapsed": true
   },
   "outputs": [],
   "source": [
    "model_params = {\n",
    "    \"num_classes\": 10, # number of classes\n",
    "    \"input_shape\": (32, 32, 3), # input image size\n",
    "    \"conv_kernel\": (3,3), # convolutional feature map size\n",
    "    \"pool_kernel\": (2,2), # pooling window size\n",
    "    \"batch_size\": 32 # number of samples per batch\n",
    "}\n",
    "hyper_params = {\n",
    "    \"l2_regularization\": 0.0005,\n",
    "    \"dropout\": 0.5, # ratio of neurons to drop during trainin\n",
    "    \"learning_rate\": 0.0001 # learning rate\n",
    "}"
   ]
  },
  {
   "cell_type": "markdown",
   "metadata": {},
   "source": [
    "# Convolutional Block\n",
    "The convolutional block is one of the building blocks of the VGG architecture. The actual composition of the block can vary across tasks. In this lesson, we're going to implement the following stack:\n",
    "\n",
    "    Block: conv - batch norm - conv - maxpool - dropout\n",
    "    \n",
    "However, you are encourage to try other combinations and experiment training different types of blocks. for example:\n",
    "    \n",
    "    Block: batch norm - conv - batch norm - conv - maxpool - dropout\n",
    "    Block: conv - batch norm - conv - batch norm - maxpool\n",
    "    Block: conv - dropout - conv - dropout - maxpool\n"
   ]
  },
  {
   "cell_type": "code",
   "execution_count": 10,
   "metadata": {
    "collapsed": true
   },
   "outputs": [],
   "source": [
    "# convolutional layer\n",
    "def conv2d(filters):\n",
    "    return tf_keras.layers.Conv2D(filters, model_params[\"conv_kernel\"],\n",
    "                                 padding='same',\n",
    "                                 activation=tf.nn.relu,\n",
    "                                 kernel_regularizer=\n",
    "                                  tf.contrib.layers.l2_regularizer(hyper_params[\"l2_regularization\"]))\n",
    "\n",
    "# Block: conv - BN - conv - maxpool - dropout\n",
    "def convBlockFunction(filters, inputs):\n",
    "    net = conv2d(filters)(inputs)\n",
    "    net = tf_keras.layers.BatchNormalization()(net)\n",
    "    net = conv2d(filters)(net)\n",
    "    net = tf_keras.layers.MaxPool2D(model_params[\"pool_kernel\"])(net)\n",
    "    return tf_keras.layers.Dropout(0.25)(net)\n",
    "\n",
    "# curried conv block\n",
    "def convBlock(filters):\n",
    "    def convBlockCurried(inputs):\n",
    "        return convBlockFunction(filters,inputs)\n",
    "    return convBlockCurried"
   ]
  },
  {
   "cell_type": "markdown",
   "metadata": {},
   "source": [
    "# Fully Connect Block\n",
    "\n",
    "Similarly for the dense block there are multiple ways to define them, here is one way:\n",
    "\n",
    "    Block: dense - dropout\n",
    "\n",
    "Other ways are:\n",
    "    \n",
    "    Block: dense - batch norm\n",
    "    Block: dense - batch norm - dropout"
   ]
  },
  {
   "cell_type": "code",
   "execution_count": 11,
   "metadata": {
    "collapsed": true
   },
   "outputs": [],
   "source": [
    "# dense block\n",
    "def denseBlockFunction(units, inputs):\n",
    "    net = tf_keras.layers.Dense(units)(inputs)\n",
    "    return tf_keras.layers.Dropout(hyper_params[\"dropout\"])(net)\n",
    "\n",
    "# curried dense block\n",
    "def denseBlock(units):\n",
    "    def denseBlockCurried(inputs):\n",
    "        return denseBlockFunction(units, inputs)\n",
    "    return denseBlockCurried"
   ]
  },
  {
   "cell_type": "markdown",
   "metadata": {},
   "source": [
    "# VGG Implementation"
   ]
  },
  {
   "cell_type": "code",
   "execution_count": 12,
   "metadata": {
    "collapsed": true
   },
   "outputs": [],
   "source": [
    "def VGG():\n",
    "\n",
    "    # TensorFlow default graph\n",
    "    tf.reset_default_graph()\n",
    "\n",
    "    # input image tensor\n",
    "    inputs = tf_keras.layers.Input(shape=model_params[\"input_shape\"])\n",
    "\n",
    "    # convolutional blocks\n",
    "    # Block: conv - BN - conv - maxpool - dropout\n",
    "    net = convBlock(64)(inputs)\n",
    "    net = convBlock(128)(net)\n",
    "    net = convBlock(256)(net)\n",
    "\n",
    "    net = tf_keras.layers.Flatten()(net)\n",
    "\n",
    "    # fully connected blocks\n",
    "    net = denseBlock(1024)(net)\n",
    "    net = denseBlock(512)(net)\n",
    "\n",
    "    # final layer\n",
    "    outputs = tf_keras.layers.Dense(model_params[\"num_classes\"],\n",
    "                                    activation = tf.nn.softmax)(net)\n",
    "    \n",
    "    # model\n",
    "    model = tf_keras.models.Model(inputs=inputs, outputs=outputs)\n",
    "    \n",
    "    return model"
   ]
  },
  {
   "cell_type": "markdown",
   "metadata": {},
   "source": [
    "# Compile Model\n",
    "Add the loss function, the optimizer, and the metrics to the model."
   ]
  },
  {
   "cell_type": "code",
   "execution_count": 13,
   "metadata": {
    "collapsed": true
   },
   "outputs": [],
   "source": [
    "def compile_model(model):\n",
    "    \n",
    "    # loss\n",
    "    loss = tf_keras.losses.categorical_crossentropy\n",
    "\n",
    "    # Adam optimizer\n",
    "    optimizer = tf_keras.optimizers.Adam(lr=hyper_params[\"learning_rate\"])\n",
    "    \n",
    "    # metrics\n",
    "    metrics = [tf_keras.metrics.categorical_accuracy,\n",
    "               tf_keras.metrics.top_k_categorical_accuracy]\n",
    "    \n",
    "\n",
    "    # compile the model with loss, optimizer and evaluation metrics\n",
    "    model.compile(loss = loss,\n",
    "                  optimizer = optimizer,\n",
    "                  metrics = metrics)\n",
    "\n",
    "    print(model.summary())\n",
    "    \n",
    "    return model"
   ]
  },
  {
   "cell_type": "code",
   "execution_count": 14,
   "metadata": {
    "collapsed": false
   },
   "outputs": [
    {
     "name": "stdout",
     "output_type": "stream",
     "text": [
      "_________________________________________________________________\n",
      "Layer (type)                 Output Shape              Param #   \n",
      "=================================================================\n",
      "input_1 (InputLayer)         (None, 32, 32, 3)         0         \n",
      "_________________________________________________________________\n",
      "conv2d_1 (Conv2D)            (None, 32, 32, 64)        1792      \n",
      "_________________________________________________________________\n",
      "batch_normalization_1 (Batch (None, 32, 32, 64)        256       \n",
      "_________________________________________________________________\n",
      "conv2d_2 (Conv2D)            (None, 32, 32, 64)        36928     \n",
      "_________________________________________________________________\n",
      "max_pooling2d_1 (MaxPooling2 (None, 16, 16, 64)        0         \n",
      "_________________________________________________________________\n",
      "dropout_1 (Dropout)          (None, 16, 16, 64)        0         \n",
      "_________________________________________________________________\n",
      "conv2d_3 (Conv2D)            (None, 16, 16, 128)       73856     \n",
      "_________________________________________________________________\n",
      "batch_normalization_2 (Batch (None, 16, 16, 128)       512       \n",
      "_________________________________________________________________\n",
      "conv2d_4 (Conv2D)            (None, 16, 16, 128)       147584    \n",
      "_________________________________________________________________\n",
      "max_pooling2d_2 (MaxPooling2 (None, 8, 8, 128)         0         \n",
      "_________________________________________________________________\n",
      "dropout_2 (Dropout)          (None, 8, 8, 128)         0         \n",
      "_________________________________________________________________\n",
      "conv2d_5 (Conv2D)            (None, 8, 8, 256)         295168    \n",
      "_________________________________________________________________\n",
      "batch_normalization_3 (Batch (None, 8, 8, 256)         1024      \n",
      "_________________________________________________________________\n",
      "conv2d_6 (Conv2D)            (None, 8, 8, 256)         590080    \n",
      "_________________________________________________________________\n",
      "max_pooling2d_3 (MaxPooling2 (None, 4, 4, 256)         0         \n",
      "_________________________________________________________________\n",
      "dropout_3 (Dropout)          (None, 4, 4, 256)         0         \n",
      "_________________________________________________________________\n",
      "flatten_1 (Flatten)          (None, 4096)              0         \n",
      "_________________________________________________________________\n",
      "dense_1 (Dense)              (None, 1024)              4195328   \n",
      "_________________________________________________________________\n",
      "dropout_4 (Dropout)          (None, 1024)              0         \n",
      "_________________________________________________________________\n",
      "dense_2 (Dense)              (None, 512)               524800    \n",
      "_________________________________________________________________\n",
      "dropout_5 (Dropout)          (None, 512)               0         \n",
      "_________________________________________________________________\n",
      "dense_3 (Dense)              (None, 10)                5130      \n",
      "=================================================================\n",
      "Total params: 5,872,458.0\n",
      "Trainable params: 5,871,562.0\n",
      "Non-trainable params: 896.0\n",
      "_________________________________________________________________\n",
      "None\n"
     ]
    }
   ],
   "source": [
    "vgg = VGG()\n",
    "vgg = compile_model(vgg)"
   ]
  },
  {
   "cell_type": "markdown",
   "metadata": {},
   "source": [
    "# Load and Vectorize Cifar10 Dataset"
   ]
  },
  {
   "cell_type": "code",
   "execution_count": 8,
   "metadata": {
    "collapsed": true
   },
   "outputs": [],
   "source": [
    "# load Cifar dataset\n",
    "(x_train, y_train), (x_test, y_test) = tf_keras.datasets.cifar10.load_data()\n",
    "\n",
    "# Turn target values into one-hot encoded vectors\n",
    "y_train = tf_keras.utils.to_categorical(y_train, model_params[\"num_classes\"])\n",
    "y_test = tf_keras.utils.to_categorical(y_test, model_params[\"num_classes\"])"
   ]
  },
  {
   "cell_type": "markdown",
   "metadata": {},
   "source": [
    "# Data Augmentation"
   ]
  },
  {
   "cell_type": "code",
   "execution_count": 9,
   "metadata": {
    "collapsed": true
   },
   "outputs": [],
   "source": [
    "# data generator augmentation configuration for training\n",
    "train_datagen = tf_keras.preprocessing.image.ImageDataGenerator(\n",
    "        rescale=1./255,\n",
    "        shear_range=0.2,\n",
    "        zoom_range=0.2,\n",
    "        horizontal_flip=True)\n",
    "\n",
    "# data generator augmentation configuration for testing\n",
    "# only rescaling\n",
    "test_datagen = tf_keras.preprocessing.image.ImageDataGenerator(\n",
    "    rescale=1./255)"
   ]
  },
  {
   "cell_type": "markdown",
   "metadata": {},
   "source": [
    "# Data Generators"
   ]
  },
  {
   "cell_type": "code",
   "execution_count": 10,
   "metadata": {
    "collapsed": true
   },
   "outputs": [],
   "source": [
    "# Training generator\n",
    "train_generator = train_datagen.flow(x=x_train, y=y_train,\n",
    "                                     batch_size=model_params[\"batch_size\"])\n",
    "\n",
    "# Testing generator\n",
    "validation_generator = test_datagen.flow(x=x_test, y=y_test,\n",
    "                                         batch_size=model_params[\"batch_size\"])"
   ]
  },
  {
   "cell_type": "markdown",
   "metadata": {},
   "source": [
    "# Train VGG on Cifar10"
   ]
  },
  {
   "cell_type": "code",
   "execution_count": 16,
   "metadata": {
    "collapsed": false
   },
   "outputs": [
    {
     "name": "stdout",
     "output_type": "stream",
     "text": [
      "Epoch 1/10\n",
      "300/300 [==============================] - 15s - loss: 1.6976 - categorical_accuracy: 0.4527 - top_k_categorical_accuracy: 0.9132 - val_loss: 1.5912 - val_categorical_accuracy: 0.4899 - val_top_k_categorical_accuracy: 0.9259\n",
      "Epoch 2/10\n",
      "300/300 [==============================] - 15s - loss: 1.6954 - categorical_accuracy: 0.4590 - top_k_categorical_accuracy: 0.9139 - val_loss: 1.7587 - val_categorical_accuracy: 0.4559 - val_top_k_categorical_accuracy: 0.9263\n",
      "Epoch 3/10\n",
      "300/300 [==============================] - 15s - loss: 1.6462 - categorical_accuracy: 0.4736 - top_k_categorical_accuracy: 0.9270 - val_loss: 1.4531 - val_categorical_accuracy: 0.5316 - val_top_k_categorical_accuracy: 0.9459\n",
      "Epoch 4/10\n",
      "300/300 [==============================] - 16s - loss: 1.6251 - categorical_accuracy: 0.4780 - top_k_categorical_accuracy: 0.9284 - val_loss: 1.5547 - val_categorical_accuracy: 0.5182 - val_top_k_categorical_accuracy: 0.9337\n",
      "Epoch 5/10\n",
      "300/300 [==============================] - 15s - loss: 1.5817 - categorical_accuracy: 0.5006 - top_k_categorical_accuracy: 0.9306 - val_loss: 1.4694 - val_categorical_accuracy: 0.5422 - val_top_k_categorical_accuracy: 0.9525\n",
      "Epoch 6/10\n",
      "300/300 [==============================] - 15s - loss: 1.5529 - categorical_accuracy: 0.5036 - top_k_categorical_accuracy: 0.9334 - val_loss: 1.4893 - val_categorical_accuracy: 0.5375 - val_top_k_categorical_accuracy: 0.9481\n",
      "Epoch 7/10\n",
      "300/300 [==============================] - 15s - loss: 1.5047 - categorical_accuracy: 0.5219 - top_k_categorical_accuracy: 0.9384 - val_loss: 1.3682 - val_categorical_accuracy: 0.5832 - val_top_k_categorical_accuracy: 0.9535\n",
      "Epoch 8/10\n",
      "300/300 [==============================] - 15s - loss: 1.4885 - categorical_accuracy: 0.5308 - top_k_categorical_accuracy: 0.9409 - val_loss: 1.4650 - val_categorical_accuracy: 0.5644 - val_top_k_categorical_accuracy: 0.9497\n",
      "Epoch 9/10\n",
      "300/300 [==============================] - 15s - loss: 1.4531 - categorical_accuracy: 0.5420 - top_k_categorical_accuracy: 0.9419 - val_loss: 1.3760 - val_categorical_accuracy: 0.5806 - val_top_k_categorical_accuracy: 0.9603\n",
      "Epoch 10/10\n",
      "300/300 [==============================] - 15s - loss: 1.3964 - categorical_accuracy: 0.5702 - top_k_categorical_accuracy: 0.9490 - val_loss: 1.3440 - val_categorical_accuracy: 0.6084 - val_top_k_categorical_accuracy: 0.9623\n"
     ]
    }
   ],
   "source": [
    "# fits the model on batches with real-time data augmentation\n",
    "history = vgg.fit_generator(train_generator,\n",
    "                            steps_per_epoch=300,#x_train.shape[0]//batch_size\n",
    "                            epochs=10,\n",
    "                            validation_data=validation_generator,\n",
    "                            validation_steps=100)"
   ]
  },
  {
   "cell_type": "markdown",
   "metadata": {},
   "source": [
    "# Evaluate Model Peformance"
   ]
  },
  {
   "cell_type": "code",
   "execution_count": 17,
   "metadata": {
    "collapsed": false
   },
   "outputs": [
    {
     "data": {
      "text/plain": [
       "[1.2883292523026466, 0.62250000000000005, 0.96515625000000005]"
      ]
     },
     "execution_count": 17,
     "metadata": {},
     "output_type": "execute_result"
    }
   ],
   "source": [
    "# evaluate the model on batches with real-time data augmentation\n",
    "loss, acc, top_k_acc= vgg.evaluate_generator(validation_generator,\n",
    "                                             steps = 200)\n",
    "print(\"loss: {}\".format(loss))\n",
    "print(\"accuracy: {}\".format(acc))\n",
    "print(\"top 5 accuracy: {}\".format(top_k_acc))"
   ]
  },
  {
   "cell_type": "markdown",
   "metadata": {},
   "source": [
    "# Make Predictions on Trained VGG"
   ]
  },
  {
   "cell_type": "code",
   "execution_count": null,
   "metadata": {
    "collapsed": true
   },
   "outputs": [],
   "source": [
    "# make predictions on batches with real-time data augmentation\n",
    "predictions = vgg.predict_generator(validation_generator, steps = 100)"
   ]
  },
  {
   "cell_type": "markdown",
   "metadata": {},
   "source": [
    "# Plot Accuracy and Loss Over Time"
   ]
  },
  {
   "cell_type": "code",
   "execution_count": 18,
   "metadata": {
    "collapsed": true
   },
   "outputs": [],
   "source": [
    "def plot_accuracy_and_loss(history):\n",
    "    plt.figure(1, figsize= (15, 10))\n",
    "    \n",
    "    # plot train and test accuracy\n",
    "    plt.subplot(221)\n",
    "    plt.plot(history.history['categorical_accuracy'])\n",
    "    plt.plot(history.history['val_categorical_accuracy'])\n",
    "    plt.title('vgg accuracy')\n",
    "    plt.ylabel('accuracy')\n",
    "    plt.xlabel('epoch')\n",
    "    plt.legend(['train', 'test'], loc='upper left')\n",
    "\n",
    "    # plot train and test loss\n",
    "    plt.subplot(222)\n",
    "    plt.plot(history.history['loss'])\n",
    "    plt.plot(history.history['val_loss'])\n",
    "    plt.title('vgg loss')\n",
    "    plt.ylabel('loss')\n",
    "    plt.xlabel('epoch')\n",
    "    plt.legend(['train', 'test'], loc='upper right')\n",
    "    \n",
    "    plt.show()"
   ]
  },
  {
   "cell_type": "code",
   "execution_count": 19,
   "metadata": {
    "collapsed": false
   },
   "outputs": [
    {
     "data": {
      "image/png": "[encoded data removed]",
      "text/plain": [
       "<matplotlib.figure.Figure at 0x7f34901b8490>"
      ]
     },
     "metadata": {},
     "output_type": "display_data"
    }
   ],
   "source": [
    "plot_accuracy_and_loss(history)"
   ]
  },
  {
   "cell_type": "markdown",
   "metadata": {},
   "source": [
    "# Save Model Architecture And Weights"
   ]
  },
  {
   "cell_type": "code",
   "execution_count": null,
   "metadata": {
    "collapsed": true
   },
   "outputs": [],
   "source": [
    "#save model\n",
    "vgg_json = vgg.to_json()\n",
    "open('cifar10_vgg.json', 'w').write(vgg_json)\n",
    "vgg.save_weights('image_classifier_cifar10.h5', overwrite=True)"
   ]
  },
  {
   "cell_type": "markdown",
   "metadata": {},
   "source": [
    "## Next Lesson\n",
    "### Transfer Learning\n",
    "-  You will learn about feature extraction and fine tuning with transfer learning\n",
    "\n",
    "<img src=\"../../images/divider.png\" width=\"100\">"
   ]
  }
 ],
 "metadata": {
  "anaconda-cloud": {},
  "kernelspec": {
   "display_name": "Python [conda env:TF-1_1]",
   "language": "python",
   "name": "conda-env-TF-1_1-py"
  },
  "language_info": {
   "codemirror_mode": {
    "name": "ipython",
    "version": 2
   },
   "file_extension": ".py",
   "mimetype": "text/x-python",
   "name": "python",
   "nbconvert_exporter": "python",
   "pygments_lexer": "ipython2",
   "version": "2.7.13"
  }
 },
 "nbformat": 4,
 "nbformat_minor": 1
}
